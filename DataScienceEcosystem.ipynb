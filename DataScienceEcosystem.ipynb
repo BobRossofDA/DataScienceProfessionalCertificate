{
 "cells": [
  {
   "cell_type": "markdown",
   "id": "a655d9e0",
   "metadata": {},
   "source": [
    "#H1: Data Science Tools and Ecosystem"
   ]
  },
  {
   "cell_type": "markdown",
   "id": "60348fe7",
   "metadata": {},
   "source": [
    "\"In this notebook, Data Science Tools and Ecosystem are summarized.\""
   ]
  },
  {
   "cell_type": "markdown",
   "id": "0268b6c6",
   "metadata": {},
   "source": [
    "**Objectives:**\n",
    "    \n",
    "    * List popular languages used in Data Science\n",
    "    * List commonly used libraries in Data Science\n",
    "    * Evaluate arithmetic expressions using Python"
   ]
  },
  {
   "cell_type": "markdown",
   "id": "3664af96",
   "metadata": {},
   "source": [
    "\"Some of the popular languages that Data Scientists use are:\"\n",
    "1. R\n",
    "2. SQL\n",
    "3. Python"
   ]
  },
  {
   "cell_type": "markdown",
   "id": "4bcca142",
   "metadata": {},
   "source": [
    "\"Some of the commonly used libraries used by Data Scientists include:\"\n",
    "1. NumPy\n",
    "2. Pandas\n",
    "3. Matplotlib"
   ]
  },
  {
   "cell_type": "markdown",
   "id": "8b83a0a6",
   "metadata": {},
   "source": [
    "|Data Science Tools|\n",
    "|------------------|\n",
    "|Visual Studio Code|\n",
    "|Jupyter Notebooks |\n",
    "|RStudio           |"
   ]
  },
  {
   "cell_type": "markdown",
   "id": "bc2d2506",
   "metadata": {},
   "source": [
    "#H3: Below are a few examples of evaluating arithmetic expressions in Python"
   ]
  },
  {
   "cell_type": "code",
   "execution_count": 7,
   "id": "cfd08162",
   "metadata": {},
   "outputs": [
    {
     "data": {
      "text/plain": [
       "17"
      ]
     },
     "execution_count": 7,
     "metadata": {},
     "output_type": "execute_result"
    }
   ],
   "source": [
    "#This a simple arithmetic expression to mutiply then add integers\n",
    "(3*4)+5"
   ]
  },
  {
   "cell_type": "code",
   "execution_count": 9,
   "id": "b351ba4d",
   "metadata": {},
   "outputs": [
    {
     "data": {
      "text/plain": [
       "3.3333333333333335"
      ]
     },
     "execution_count": 9,
     "metadata": {},
     "output_type": "execute_result"
    }
   ],
   "source": [
    "#This will convert 200 minutes to hours by dividing by 60\n",
    "200/60"
   ]
  },
  {
   "cell_type": "markdown",
   "id": "c1494020",
   "metadata": {},
   "source": [
    "#H2: Author"
   ]
  },
  {
   "cell_type": "markdown",
   "id": "fb8ccdfb",
   "metadata": {},
   "source": [
    "Michael Coleman"
   ]
  },
  {
   "cell_type": "code",
   "execution_count": null,
   "id": "50df747c",
   "metadata": {},
   "outputs": [],
   "source": []
  }
 ],
 "metadata": {
  "kernelspec": {
   "display_name": "Python 3 (ipykernel)",
   "language": "python",
   "name": "python3"
  },
  "language_info": {
   "codemirror_mode": {
    "name": "ipython",
    "version": 3
   },
   "file_extension": ".py",
   "mimetype": "text/x-python",
   "name": "python",
   "nbconvert_exporter": "python",
   "pygments_lexer": "ipython3",
   "version": "3.11.5"
  }
 },
 "nbformat": 4,
 "nbformat_minor": 5
}
